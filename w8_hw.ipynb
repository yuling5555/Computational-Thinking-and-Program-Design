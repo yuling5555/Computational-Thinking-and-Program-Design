{
  "nbformat": 4,
  "nbformat_minor": 0,
  "metadata": {
    "colab": {
      "name": "w8 hw.ipynb",
      "provenance": [],
      "collapsed_sections": []
    },
    "kernelspec": {
      "name": "python3",
      "display_name": "Python 3"
    }
  },
  "cells": [
    {
      "cell_type": "code",
      "metadata": {
        "id": "VB0SxCWcXO2_",
        "colab_type": "code",
        "outputId": "09d7e4fe-fc9c-4022-9549-377ab84ccacd",
        "colab": {
          "base_uri": "https://localhost:8080/",
          "height": 51
        }
      },
      "source": [
        "user_int=int(input(\"請輸入一個正整數\"))\n",
        "if user_int % 3 ==0:\n",
        "  print(\"Fizz\")"
      ],
      "execution_count": 0,
      "outputs": [
        {
          "output_type": "stream",
          "text": [
            "請輸入一個正整數3\n",
            "Fizz\n"
          ],
          "name": "stdout"
        }
      ]
    },
    {
      "cell_type": "code",
      "metadata": {
        "id": "v2oWP1rCXTLx",
        "colab_type": "code",
        "outputId": "822e71ae-e011-43c5-a243-101b81add53f",
        "colab": {
          "base_uri": "https://localhost:8080/",
          "height": 51
        }
      },
      "source": [
        "user_int=int(input(\"請輸入一個正整數\"))\n",
        "if user_int % 3 ==0:\n",
        "  print(\"Fizz\")\n",
        "if user_int % 5 ==0:\n",
        "  print(\"Buzz\")"
      ],
      "execution_count": 0,
      "outputs": [
        {
          "output_type": "stream",
          "text": [
            "請輸入一個正整數5\n",
            "Buzz\n"
          ],
          "name": "stdout"
        }
      ]
    },
    {
      "cell_type": "code",
      "metadata": {
        "id": "Z4MFGMzOaQkO",
        "colab_type": "code",
        "outputId": "8afe6936-87a1-4ea6-ce8e-18319fb2acba",
        "colab": {
          "base_uri": "https://localhost:8080/",
          "height": 51
        }
      },
      "source": [
        "user_int=int(input(\"請輸入一個正整數\"))\n",
        "if user_int % 3 ==0 and user_int % 5 ==0:\n",
        "  print(\"Fizz Buzz\")\n",
        "elif user_int % 5 ==0:\n",
        "  print(\"Buzz\")\n",
        "elif user_int % 3 ==0:\n",
        "  print(\"Fizz\")\n",
        "else:\n",
        "  print(user_int)"
      ],
      "execution_count": 0,
      "outputs": [
        {
          "output_type": "stream",
          "text": [
            "請輸入一個正整數15\n",
            "Fizz Buzz\n"
          ],
          "name": "stdout"
        }
      ]
    },
    {
      "cell_type": "code",
      "metadata": {
        "id": "rlBsxmQfaSjg",
        "colab_type": "code",
        "outputId": "78f106be-2910-4b4c-b0d2-bbf982055635",
        "colab": {
          "base_uri": "https://localhost:8080/",
          "height": 51
        }
      },
      "source": [
        "user_int=int(input(\"請輸入一個正整數\"))\n",
        "if user_int % 3 ==0 and user_int % 5 ==0:\n",
        "  print(\"Fizz Buzz\")\n",
        "elif user_int % 5 ==0:\n",
        "  print(\"Buzz\")\n",
        "elif user_int % 3 ==0:\n",
        "  print(\"Fizz\")\n",
        "else:\n",
        "  print(user_int)"
      ],
      "execution_count": 0,
      "outputs": [
        {
          "output_type": "stream",
          "text": [
            "請輸入一個正整數16\n",
            "16\n"
          ],
          "name": "stdout"
        }
      ]
    },
    {
      "cell_type": "code",
      "metadata": {
        "id": "1ml0i44taj9n",
        "colab_type": "code",
        "outputId": "58d837a2-8e3b-4ff6-e124-081a1baaa1ab",
        "colab": {
          "base_uri": "https://localhost:8080/",
          "height": 102
        }
      },
      "source": [
        "x = int(input(\"請輸入起始的正整數：\"))\n",
        "y = int(input(\"請輸入終止的正整數：\"))\n",
        "i = x \n",
        "while i <= y:\n",
        "  if i % 2 == 1:\n",
        "    print(i)\n",
        "  i += 1"
      ],
      "execution_count": 0,
      "outputs": [
        {
          "output_type": "stream",
          "text": [
            "請輸入起始的正整數：5\n",
            "請輸入終止的正整數：10\n",
            "5\n",
            "7\n",
            "9\n"
          ],
          "name": "stdout"
        }
      ]
    },
    {
      "cell_type": "code",
      "metadata": {
        "id": "WPScWNeGakAd",
        "colab_type": "code",
        "outputId": "b5505bb5-4685-4a41-9a77-09cb238faf5f",
        "colab": {
          "base_uri": "https://localhost:8080/",
          "height": 119
        }
      },
      "source": [
        "x = int(input(\"請輸入起始的正整數：\"))\n",
        "y = int(input(\"請輸入終止的正整數：\"))\n",
        "i = x \n",
        "counter = 0\n",
        "while i <= y:\n",
        "  if i % 2 == 1:\n",
        "    print(i)\n",
        "    counter += 1\n",
        "  i += 1\n",
        "print(counter)"
      ],
      "execution_count": 0,
      "outputs": [
        {
          "output_type": "stream",
          "text": [
            "請輸入起始的正整數：5\n",
            "請輸入終止的正整數：10\n",
            "5\n",
            "7\n",
            "9\n",
            "3\n"
          ],
          "name": "stdout"
        }
      ]
    },
    {
      "cell_type": "code",
      "metadata": {
        "id": "6quSQFXEakGa",
        "colab_type": "code",
        "outputId": "3cce7d27-2e0d-43b4-dede-a5595cd5fccf",
        "colab": {
          "base_uri": "https://localhost:8080/",
          "height": 1000
        }
      },
      "source": [
        "i = 1\n",
        "while i <= 100:\n",
        "  if i % 15 == 0:\n",
        "    print(\"Fizz Buzz\")\n",
        "  elif i % 3 == 0:\n",
        "    print(\"Fizz\")\n",
        "  elif i % 5 == 0:\n",
        "    print(\"Buzz\")\n",
        "  else:\n",
        "    print(i)\n",
        "  i += 1"
      ],
      "execution_count": 0,
      "outputs": [
        {
          "output_type": "stream",
          "text": [
            "1\n",
            "2\n",
            "Fizz\n",
            "4\n",
            "Buzz\n",
            "Fizz\n",
            "7\n",
            "8\n",
            "Fizz\n",
            "Buzz\n",
            "11\n",
            "Fizz\n",
            "13\n",
            "14\n",
            "Fizz Buzz\n",
            "16\n",
            "17\n",
            "Fizz\n",
            "19\n",
            "Buzz\n",
            "Fizz\n",
            "22\n",
            "23\n",
            "Fizz\n",
            "Buzz\n",
            "26\n",
            "Fizz\n",
            "28\n",
            "29\n",
            "Fizz Buzz\n",
            "31\n",
            "32\n",
            "Fizz\n",
            "34\n",
            "Buzz\n",
            "Fizz\n",
            "37\n",
            "38\n",
            "Fizz\n",
            "Buzz\n",
            "41\n",
            "Fizz\n",
            "43\n",
            "44\n",
            "Fizz Buzz\n",
            "46\n",
            "47\n",
            "Fizz\n",
            "49\n",
            "Buzz\n",
            "Fizz\n",
            "52\n",
            "53\n",
            "Fizz\n",
            "Buzz\n",
            "56\n",
            "Fizz\n",
            "58\n",
            "59\n",
            "Fizz Buzz\n",
            "61\n",
            "62\n",
            "Fizz\n",
            "64\n",
            "Buzz\n",
            "Fizz\n",
            "67\n",
            "68\n",
            "Fizz\n",
            "Buzz\n",
            "71\n",
            "Fizz\n",
            "73\n",
            "74\n",
            "Fizz Buzz\n",
            "76\n",
            "77\n",
            "Fizz\n",
            "79\n",
            "Buzz\n",
            "Fizz\n",
            "82\n",
            "83\n",
            "Fizz\n",
            "Buzz\n",
            "86\n",
            "Fizz\n",
            "88\n",
            "89\n",
            "Fizz Buzz\n",
            "91\n",
            "92\n",
            "Fizz\n",
            "94\n",
            "Buzz\n",
            "Fizz\n",
            "97\n",
            "98\n",
            "Fizz\n",
            "Buzz\n"
          ],
          "name": "stdout"
        }
      ]
    }
  ]
}