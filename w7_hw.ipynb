{
  "nbformat": 4,
  "nbformat_minor": 0,
  "metadata": {
    "colab": {
      "name": "w7 hw.ipynb",
      "provenance": []
    },
    "kernelspec": {
      "name": "python3",
      "display_name": "Python 3"
    }
  },
  "cells": [
    {
      "cell_type": "code",
      "metadata": {
        "id": "6HAitjnNKMj_",
        "colab_type": "code",
        "outputId": "9294dccc-6ea6-40c5-eea3-3083ac6ef8d3",
        "colab": {
          "base_uri": "https://localhost:8080/",
          "height": 70
        }
      },
      "source": [
        "salary = input(\"請輸入月薪:\")\n",
        "saving_account = input(\"請輸入存款\")\n",
        "salary = int(salary)\n",
        "saving_account = int(saving_account)\n",
        "\n",
        "if salary > 40000:\n",
        "  ans = \"發信用卡\"\n",
        "if saving_account >500000:\n",
        "  ans = \"發信用卡\"\n",
        "print(ans)"
      ],
      "execution_count": 0,
      "outputs": [
        {
          "output_type": "stream",
          "text": [
            "請輸入月薪:40001\n",
            "請輸入存款499999\n",
            "發信用卡\n"
          ],
          "name": "stdout"
        }
      ]
    },
    {
      "cell_type": "code",
      "metadata": {
        "id": "_LEkD-8EMXjW",
        "colab_type": "code",
        "colab": {}
      },
      "source": [
        ""
      ],
      "execution_count": 0,
      "outputs": []
    },
    {
      "cell_type": "code",
      "metadata": {
        "colab_type": "code",
        "outputId": "8e7f68df-7242-4692-d0b3-82d3b26bcdca",
        "id": "jqAcSGT_MYke",
        "colab": {
          "base_uri": "https://localhost:8080/",
          "height": 70
        }
      },
      "source": [
        "salary = input(\"請輸入月薪:\")\n",
        "saving_account = input(\"請輸入存款\")\n",
        "salary = int(salary)\n",
        "saving_account = int(saving_account)\n",
        "\n",
        "if salary > 40000:\n",
        "  ans = \"發信用卡\"\n",
        "if saving_account >500000:\n",
        "  ans = \"發信用卡\"\n",
        "print(ans)"
      ],
      "execution_count": 0,
      "outputs": [
        {
          "output_type": "stream",
          "text": [
            "請輸入月薪:39999\n",
            "請輸入存款500001\n",
            "發信用卡\n"
          ],
          "name": "stdout"
        }
      ]
    },
    {
      "cell_type": "code",
      "metadata": {
        "id": "F0R-TDwdK5uH",
        "colab_type": "code",
        "outputId": "dc31c6d6-80ed-4aea-a9aa-e778852c6894",
        "colab": {
          "base_uri": "https://localhost:8080/",
          "height": 70
        }
      },
      "source": [
        "salary = input(\"請輸入月薪:\")\n",
        "saving_account = input(\"請輸入存款\")\n",
        "salary = int(salary)\n",
        "saving_account = int(saving_account)\n",
        "\n",
        "print(salary > 40000 or saving_account > 500000)"
      ],
      "execution_count": 0,
      "outputs": [
        {
          "output_type": "stream",
          "text": [
            "請輸入月薪:40001\n",
            "請輸入存款499999\n",
            "True\n"
          ],
          "name": "stdout"
        }
      ]
    },
    {
      "cell_type": "code",
      "metadata": {
        "id": "hA1rM5wuMevw",
        "colab_type": "code",
        "outputId": "3fc3d129-5386-48db-925c-e870828ad493",
        "colab": {
          "base_uri": "https://localhost:8080/",
          "height": 70
        }
      },
      "source": [
        "salary = input(\"請輸入月薪:\")\n",
        "saving_account = input(\"請輸入存款\")\n",
        "salary = int(salary)\n",
        "saving_account = int(saving_account)\n",
        "\n",
        "print(salary > 40000 or saving_account > 500000)"
      ],
      "execution_count": 0,
      "outputs": [
        {
          "output_type": "stream",
          "text": [
            "請輸入月薪:39999\n",
            "請輸入存款500001\n",
            "True\n"
          ],
          "name": "stdout"
        }
      ]
    },
    {
      "cell_type": "code",
      "metadata": {
        "id": "Dfu0g2iaO0-C",
        "colab_type": "code",
        "outputId": "5e5bd557-6119-40f4-b531-9b091c63363a",
        "colab": {
          "base_uri": "https://localhost:8080/",
          "height": 52
        }
      },
      "source": [
        "user_int = input(\"請輸入一個正整數：\")\n",
        "user_int = int(user_int)\n",
        "if user_int % 2 == 0:\n",
        "    ans = \"偶數\"\n",
        "else:\n",
        "    ans = \"奇數\"\n",
        "print(ans)"
      ],
      "execution_count": 0,
      "outputs": [
        {
          "output_type": "stream",
          "text": [
            "請輸入一個正整數：5566\n",
            "偶數\n"
          ],
          "name": "stdout"
        }
      ]
    },
    {
      "cell_type": "code",
      "metadata": {
        "id": "aQdfNmm0O1IG",
        "colab_type": "code",
        "outputId": "1bddee4d-4def-414a-8caf-42375ae107a1",
        "colab": {
          "base_uri": "https://localhost:8080/",
          "height": 52
        }
      },
      "source": [
        "user_int = input(\"請輸入一個正整數：\")\n",
        "user_int = int(user_int)\n",
        "if user_int % 2 == 0:\n",
        "    ans = \"偶數\"\n",
        "else:\n",
        "    ans = \"奇數\"\n",
        "print(ans)"
      ],
      "execution_count": 0,
      "outputs": [
        {
          "output_type": "stream",
          "text": [
            "請輸入一個正整數：87\n",
            "奇數\n"
          ],
          "name": "stdout"
        }
      ]
    },
    {
      "cell_type": "code",
      "metadata": {
        "id": "oLW8_Jl1O4rW",
        "colab_type": "code",
        "outputId": "ca7e00c3-8a6a-4afa-b589-355968f6cee3",
        "colab": {
          "base_uri": "https://localhost:8080/",
          "height": 52
        }
      },
      "source": [
        "id_last_id = input(\"請輸入身分證字號尾數:\")\n",
        "id_last_id = int(id_last_id)\n",
        "if id_last_id % 2 == 0:\n",
        "  print(\"因為身分證字號為偶數，星期二四六日領\")\n",
        "else:\n",
        "  print(\"因為身分證字號為奇數，星期一三五日領\")"
      ],
      "execution_count": 0,
      "outputs": [
        {
          "output_type": "stream",
          "text": [
            "請輸入身分證字號尾數:5\n",
            "因為身分證字號為奇數，星期一三五日領\n"
          ],
          "name": "stdout"
        }
      ]
    },
    {
      "cell_type": "code",
      "metadata": {
        "id": "l2FvRWU8O4ub",
        "colab_type": "code",
        "outputId": "f2c530a0-0f75-4da9-92f4-a4a6f9ea0662",
        "colab": {
          "base_uri": "https://localhost:8080/",
          "height": 52
        }
      },
      "source": [
        "id_last_id = input(\"請輸入身分證字號尾數:\")\n",
        "id_last_id = int(id_last_id)\n",
        "if id_last_id % 2 == 0:\n",
        "  print(\"因為身分證字號為偶數，星期二四六日領\")\n",
        "else:\n",
        "  print(\"因為身分證字號為奇數，星期一三五日領\")"
      ],
      "execution_count": 0,
      "outputs": [
        {
          "output_type": "stream",
          "text": [
            "請輸入身分證字號尾數:6\n",
            "因為身分證字號為偶數，星期二四六日領\n"
          ],
          "name": "stdout"
        }
      ]
    },
    {
      "cell_type": "code",
      "metadata": {
        "id": "qwfzS4olO47L",
        "colab_type": "code",
        "outputId": "3ab0dd8d-29f0-4a4e-f56d-296d66cbffb8",
        "colab": {
          "base_uri": "https://localhost:8080/",
          "height": 70
        }
      },
      "source": [
        "input_height = float(input(\"請輸入身高(公分):\"))\n",
        "input_weight = float(input(\"請輸入體重(公斤):\"))\n",
        "bmi = input_weight / (input_height*0.01)**2\n",
        "if bmi > 30:\n",
        "  label = \"Obese\"\n",
        "elif bmi > 25:\n",
        "  label = \"Overweight\"\n",
        "elif bmi > 18.5:\n",
        "  label = \"Normal weight\"\n",
        "if bmi <= 18.5:\n",
        "  label = \"Underweight\"\n",
        "print(label)"
      ],
      "execution_count": 0,
      "outputs": [
        {
          "output_type": "stream",
          "text": [
            "請輸入身高(公分):200\n",
            "請輸入體重(公斤):80\n",
            "Normal weight\n"
          ],
          "name": "stdout"
        }
      ]
    },
    {
      "cell_type": "code",
      "metadata": {
        "id": "5sRm1iX9XWlO",
        "colab_type": "code",
        "outputId": "36eacfb8-c3b1-481d-a055-09aabbd3ef54",
        "colab": {
          "base_uri": "https://localhost:8080/",
          "height": 70
        }
      },
      "source": [
        "input_height = float(input(\"請輸入身高(公分):\"))\n",
        "input_weight = float(input(\"請輸入體重(公斤):\"))\n",
        "bmi = input_weight / (input_height*0.01)**2\n",
        "if bmi > 30:\n",
        "  label = \"Obese\"\n",
        "elif bmi > 25:\n",
        "  label = \"Overweight\"\n",
        "elif bmi > 18.5:\n",
        "  label = \"Normal weight\"\n",
        "if bmi <= 18.5:\n",
        "  label = \"Underweight\"\n",
        "print(label)"
      ],
      "execution_count": 0,
      "outputs": [
        {
          "output_type": "stream",
          "text": [
            "請輸入身高(公分):170\n",
            "請輸入體重(公斤):100\n",
            "Obese\n"
          ],
          "name": "stdout"
        }
      ]
    }
  ]
}