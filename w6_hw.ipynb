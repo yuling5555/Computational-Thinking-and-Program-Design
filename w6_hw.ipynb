{
  "nbformat": 4,
  "nbformat_minor": 0,
  "metadata": {
    "colab": {
      "name": "w6 hw.ipynb",
      "provenance": [],
      "collapsed_sections": []
    },
    "kernelspec": {
      "name": "python3",
      "display_name": "Python 3"
    }
  },
  "cells": [
    {
      "cell_type": "code",
      "metadata": {
        "id": "LP6y0UmjYr2k",
        "colab_type": "code",
        "outputId": "5b6fd62b-09ac-4343-ac4c-d3f6c1301494",
        "colab": {
          "base_uri": "https://localhost:8080/",
          "height": 70
        }
      },
      "source": [
        "id_last_digit = input(\"請輸入您身分證字號的尾數：\")\n",
        "id_last_digit = int(id_last_digit)\n",
        "modulo = id_last_digit % 2 \n",
        "print(modulo)\n",
        "ans = modulo == 1\n",
        "print(ans)"
      ],
      "execution_count": 0,
      "outputs": [
        {
          "output_type": "stream",
          "text": [
            "請輸入您身分證字號的尾數：5\n",
            "1\n",
            "True\n"
          ],
          "name": "stdout"
        }
      ]
    },
    {
      "cell_type": "code",
      "metadata": {
        "id": "vn27BXvdY3CC",
        "colab_type": "code",
        "outputId": "9e68e000-7000-4420-96c6-b1b55001a467",
        "colab": {
          "base_uri": "https://localhost:8080/",
          "height": 70
        }
      },
      "source": [
        "id_last_digit = input(\"請輸入您身分證字號的尾數：\")\n",
        "id_last_digit = int(id_last_digit)\n",
        "modulo = id_last_digit % 2 \n",
        "print(modulo)\n",
        "ans = modulo == 1\n",
        "print(ans)"
      ],
      "execution_count": 0,
      "outputs": [
        {
          "output_type": "stream",
          "text": [
            "請輸入您身分證字號的尾數：6\n",
            "0\n",
            "False\n"
          ],
          "name": "stdout"
        }
      ]
    },
    {
      "cell_type": "code",
      "metadata": {
        "id": "iAtaPsgJY3MM",
        "colab_type": "code",
        "colab": {}
      },
      "source": [
        ""
      ],
      "execution_count": 0,
      "outputs": []
    },
    {
      "cell_type": "code",
      "metadata": {
        "id": "I9XIlRApY3Tg",
        "colab_type": "code",
        "colab": {}
      },
      "source": [
        ""
      ],
      "execution_count": 0,
      "outputs": []
    },
    {
      "cell_type": "code",
      "metadata": {
        "id": "cf0keMI2Y3WU",
        "colab_type": "code",
        "colab": {}
      },
      "source": [
        ""
      ],
      "execution_count": 0,
      "outputs": []
    },
    {
      "cell_type": "code",
      "metadata": {
        "id": "5czgwcOYY3ZC",
        "colab_type": "code",
        "colab": {}
      },
      "source": [
        ""
      ],
      "execution_count": 0,
      "outputs": []
    }
  ]
}