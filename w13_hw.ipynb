{
  "nbformat": 4,
  "nbformat_minor": 0,
  "metadata": {
    "colab": {
      "name": "w13 hw.ipynb",
      "provenance": [],
      "collapsed_sections": []
    },
    "kernelspec": {
      "name": "python3",
      "display_name": "Python 3"
    }
  },
  "cells": [
    {
      "cell_type": "code",
      "metadata": {
        "id": "34eG3NV0tP5S",
        "colab_type": "code",
        "colab": {
          "base_uri": "https://localhost:8080/",
          "height": 35
        },
        "outputId": "933767d1-db95-4d32-96ef-e2f4a90f011b"
      },
      "source": [
        "from random import sample\n",
        "\n",
        "sample(range(1, 1001), 1)"
      ],
      "execution_count": 1,
      "outputs": [
        {
          "output_type": "execute_result",
          "data": {
            "text/plain": [
              "[361]"
            ]
          },
          "metadata": {
            "tags": []
          },
          "execution_count": 1
        }
      ]
    },
    {
      "cell_type": "code",
      "metadata": {
        "id": "n_KWBWVotTrQ",
        "colab_type": "code",
        "colab": {
          "base_uri": "https://localhost:8080/",
          "height": 52
        },
        "outputId": "5edd6aab-6401-45e7-c493-7284accf3071"
      },
      "source": [
        "from random import sample\n",
        "\n",
        "n_samples = 0\n",
        "while True:\n",
        "    random_integer = sample(range(1, 1001), 1)[0]\n",
        "    n_samples += 1\n",
        "    if random_integer % 56 == 0:\n",
        "        break\n",
        "print(random_integer)\n",
        "print(n_samples)"
      ],
      "execution_count": 2,
      "outputs": [
        {
          "output_type": "stream",
          "text": [
            "448\n",
            "10\n"
          ],
          "name": "stdout"
        }
      ]
    },
    {
      "cell_type": "code",
      "metadata": {
        "id": "5UPEdBbYtTt-",
        "colab_type": "code",
        "colab": {}
      },
      "source": [
        "def get_fahrenheit(x):\n",
        "  \"\"\"\n",
        "  Transform a Celsius degree into Farenheit scale\n",
        "  \"\"\"\n",
        "  fah = x *9/5 + 32\n",
        "  return fah"
      ],
      "execution_count": 0,
      "outputs": []
    },
    {
      "cell_type": "code",
      "metadata": {
        "id": "1llUOmBItTwc",
        "colab_type": "code",
        "colab": {
          "base_uri": "https://localhost:8080/",
          "height": 35
        },
        "outputId": "94efe972-51c8-475f-8ac7-b4657adbe1d2"
      },
      "source": [
        "get_fahrenheit(32)"
      ],
      "execution_count": 4,
      "outputs": [
        {
          "output_type": "execute_result",
          "data": {
            "text/plain": [
              "89.6"
            ]
          },
          "metadata": {
            "tags": []
          },
          "execution_count": 4
        }
      ]
    },
    {
      "cell_type": "code",
      "metadata": {
        "id": "srlUirFqtTyb",
        "colab_type": "code",
        "colab": {}
      },
      "source": [
        " def get_bmi(height, weight):\n",
        "  \"\"\"\n",
        "  Calculate BMI based on height and weight\n",
        "  \"\"\"\n",
        "  height = height / 100\n",
        "  bmi = weight / height**2\n",
        "  return bmi"
      ],
      "execution_count": 0,
      "outputs": []
    },
    {
      "cell_type": "code",
      "metadata": {
        "id": "yct4tfVyKrw5",
        "colab_type": "code",
        "colab": {
          "base_uri": "https://localhost:8080/",
          "height": 35
        },
        "outputId": "e4df7171-f2cd-4d36-81e7-4c5fdc1cd8a3"
      },
      "source": [
        "get_bmi(198, 129)"
      ],
      "execution_count": 6,
      "outputs": [
        {
          "output_type": "execute_result",
          "data": {
            "text/plain": [
              "32.90480563207836"
            ]
          },
          "metadata": {
            "tags": []
          },
          "execution_count": 6
        }
      ]
    },
    {
      "cell_type": "code",
      "metadata": {
        "id": "OSTzae0eKyzj",
        "colab_type": "code",
        "colab": {}
      },
      "source": [
        ""
      ],
      "execution_count": 0,
      "outputs": []
    },
    {
      "cell_type": "code",
      "metadata": {
        "id": "RS_QklocKy39",
        "colab_type": "code",
        "colab": {}
      },
      "source": [
        ""
      ],
      "execution_count": 0,
      "outputs": []
    }
  ]
}