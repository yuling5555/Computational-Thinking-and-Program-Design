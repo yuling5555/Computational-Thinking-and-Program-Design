{
  "nbformat": 4,
  "nbformat_minor": 0,
  "metadata": {
    "colab": {
      "name": "w9 hw.ipynb",
      "provenance": [],
      "collapsed_sections": []
    },
    "kernelspec": {
      "name": "python3",
      "display_name": "Python 3"
    }
  },
  "cells": [
    {
      "cell_type": "code",
      "metadata": {
        "id": "ihpmzljgyJ8l",
        "colab_type": "code",
        "outputId": "77f295b0-9445-4e24-abd3-76c8a2850c20",
        "colab": {
          "base_uri": "https://localhost:8080/",
          "height": 102
        }
      },
      "source": [
        "x = int(input(\"請輸入開始的整數：\"))\n",
        "y = int(input(\"請輸入終止的整數：\"))\n",
        "i = x\n",
        "while i <= y:\n",
        "  if i % 2 == 1:\n",
        "    print(i)\n",
        "  i += 1 "
      ],
      "execution_count": 0,
      "outputs": [
        {
          "output_type": "stream",
          "text": [
            "請輸入開始的整數：5\n",
            "請輸入終止的整數：10\n",
            "5\n",
            "7\n",
            "9\n"
          ],
          "name": "stdout"
        }
      ]
    },
    {
      "cell_type": "code",
      "metadata": {
        "id": "JzHwq1IuCui0",
        "colab_type": "code",
        "outputId": "c12fd49d-3f33-4468-d932-8496ebf8af32",
        "colab": {
          "base_uri": "https://localhost:8080/",
          "height": 68
        }
      },
      "source": [
        "x = int(input(\"請輸入開始的整數：\"))\n",
        "y = int(input(\"請輸入終止的整數：\"))\n",
        "i = x\n",
        "counter = 0 # 歸零\n",
        "while i <= y:\n",
        "  if i % 2 == 1:\n",
        "    counter += 1\n",
        "  i += 1 \n",
        "print(counter)"
      ],
      "execution_count": 0,
      "outputs": [
        {
          "output_type": "stream",
          "text": [
            "請輸入開始的整數：5\n",
            "請輸入終止的整數：10\n",
            "3\n"
          ],
          "name": "stdout"
        }
      ]
    },
    {
      "cell_type": "code",
      "metadata": {
        "id": "1Dgdgg5HEuo5",
        "colab_type": "code",
        "outputId": "c27ff919-72d3-47e5-ca1e-cf84c8b17614",
        "colab": {
          "base_uri": "https://localhost:8080/",
          "height": 85
        }
      },
      "source": [
        "x = int(input(\"請輸入開始的整數：\"))\n",
        "y = int(input(\"請輸入終止的整數：\"))\n",
        "i = x\n",
        "summation = 0\n",
        "while i <= y:\n",
        "  if i % 2 == 1:\n",
        "    summation += i # 數值累加\n",
        "  i += 1 \n",
        "print(\"======\")\n",
        "print(summation)"
      ],
      "execution_count": 0,
      "outputs": [
        {
          "output_type": "stream",
          "text": [
            "請輸入開始的整數：5\n",
            "請輸入終止的整數：10\n",
            "======\n",
            "21\n"
          ],
          "name": "stdout"
        }
      ]
    },
    {
      "cell_type": "code",
      "metadata": {
        "id": "bQ__T2eoFcIA",
        "colab_type": "code",
        "colab": {}
      },
      "source": [
        ""
      ],
      "execution_count": 0,
      "outputs": []
    },
    {
      "cell_type": "code",
      "metadata": {
        "id": "SOzgGbNKFcVp",
        "colab_type": "code",
        "colab": {}
      },
      "source": [
        ""
      ],
      "execution_count": 0,
      "outputs": []
    },
    {
      "cell_type": "code",
      "metadata": {
        "id": "thOVTnmMFcYn",
        "colab_type": "code",
        "colab": {}
      },
      "source": [
        ""
      ],
      "execution_count": 0,
      "outputs": []
    }
  ]
}