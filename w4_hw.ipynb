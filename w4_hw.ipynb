{
  "nbformat": 4,
  "nbformat_minor": 0,
  "metadata": {
    "colab": {
      "name": "w4 hw.ipynb",
      "provenance": []
    },
    "kernelspec": {
      "name": "python3",
      "display_name": "Python 3"
    }
  },
  "cells": [
    {
      "cell_type": "code",
      "metadata": {
        "id": "6JYBmBNGTRva",
        "colab_type": "code",
        "outputId": "84390a69-a566-4af6-8597-380d779e37bc",
        "colab": {
          "base_uri": "https://localhost:8080/",
          "height": 35
        }
      },
      "source": [
        "current_celsius = 28\n",
        "current_fahrenheit = current_celsius * 9 / 5 + 32\n",
        "print(current_fahrenheit)"
      ],
      "execution_count": 0,
      "outputs": [
        {
          "output_type": "stream",
          "text": [
            "82.4\n"
          ],
          "name": "stdout"
        }
      ]
    },
    {
      "cell_type": "code",
      "metadata": {
        "id": "gsNx4acjTg26",
        "colab_type": "code",
        "outputId": "6b2ea128-726e-4794-a2a1-d93de10df9e8",
        "colab": {
          "base_uri": "https://localhost:8080/",
          "height": 35
        }
      },
      "source": [
        "current_celsius = (current_fahrenheit - 32) * 5 / 9\n",
        "print(current_celsius)"
      ],
      "execution_count": 0,
      "outputs": [
        {
          "output_type": "stream",
          "text": [
            "28.000000000000004\n"
          ],
          "name": "stdout"
        }
      ]
    },
    {
      "cell_type": "code",
      "metadata": {
        "id": "wD-pdQC6TmYC",
        "colab_type": "code",
        "outputId": "ce963adf-7a23-4770-8bb8-769564b95095",
        "colab": {
          "base_uri": "https://localhost:8080/",
          "height": 35
        }
      },
      "source": [
        "shaq_height = 216\n",
        "shaq_weight = 147\n",
        "shaq_bmi = shaq_weight / (shaq_height/100) **2\n",
        "print(shaq_bmi)"
      ],
      "execution_count": 0,
      "outputs": [
        {
          "output_type": "stream",
          "text": [
            "31.507201646090532\n"
          ],
          "name": "stdout"
        }
      ]
    },
    {
      "cell_type": "code",
      "metadata": {
        "id": "q_UjAAcAT8JQ",
        "colab_type": "code",
        "outputId": "23afa794-2ad0-4151-b14e-b49a1629fae9",
        "colab": {
          "base_uri": "https://localhost:8080/",
          "height": 35
        }
      },
      "source": [
        "ross_said = \"\"\"Let's put aside the fact that you \"accidentally\" pick up my grandmother's ring.\"\"\"\n",
        "print(ross_said)"
      ],
      "execution_count": 0,
      "outputs": [
        {
          "output_type": "stream",
          "text": [
            "Let's put aside the fact that you \"accidentally\" pick up my grandmother's ring.\n"
          ],
          "name": "stdout"
        }
      ]
    },
    {
      "cell_type": "code",
      "metadata": {
        "id": "Gh-XNBuTUGf4",
        "colab_type": "code",
        "outputId": "c210cf2a-8a06-4102-830f-30deda7e6676",
        "colab": {
          "base_uri": "https://localhost:8080/",
          "height": 70
        }
      },
      "source": [
        "current_city = input(\"請輸入你所在城市:\")\n",
        "weather = input(\"請輸入目前的天氣:\")\n",
        "print(\"我在{}，天氣{}\" .format(current_city, weather))"
      ],
      "execution_count": 0,
      "outputs": [
        {
          "output_type": "stream",
          "text": [
            "請輸入你所在城市:台北\n",
            "請輸入目前的天氣:晴\n",
            "我在台北，天氣晴\n"
          ],
          "name": "stdout"
        }
      ]
    },
    {
      "cell_type": "code",
      "metadata": {
        "id": "vrZJbkbUUWv0",
        "colab_type": "code",
        "outputId": "a08f5094-db11-4ad3-d2f6-5714fd81acf0",
        "colab": {
          "base_uri": "https://localhost:8080/",
          "height": 35
        }
      },
      "source": [
        "shaq_height = 216\n",
        "shaq_weight = 147\n",
        "shaq_bmi = shaq_weight / (shaq_height/100) **2\n",
        "print(shaq_bmi > 24)"
      ],
      "execution_count": 0,
      "outputs": [
        {
          "output_type": "stream",
          "text": [
            "True\n"
          ],
          "name": "stdout"
        }
      ]
    }
  ]
}