{
  "nbformat": 4,
  "nbformat_minor": 0,
  "metadata": {
    "colab": {
      "name": "w12 hw.ipynb",
      "provenance": [],
      "collapsed_sections": []
    },
    "kernelspec": {
      "name": "python3",
      "display_name": "Python 3"
    }
  },
  "cells": [
    {
      "cell_type": "code",
      "metadata": {
        "id": "m0noPBkhDlVj",
        "colab_type": "code",
        "outputId": "92951240-b051-4f65-e3e3-38d24e6cf236",
        "colab": {
          "base_uri": "https://localhost:8080/",
          "height": 68
        }
      },
      "source": [
        "x = int(input(\"請輸入開始的正整數：\"))\n",
        "y = int(input(\"請輸入終止的正整數：\"))\n",
        "odds = []\n",
        "for i in range(x, y+1):\n",
        "  mod = i % 2 \n",
        "  if mod == 1:\n",
        "    odds.append(i)\n",
        "print(odds)"
      ],
      "execution_count": 0,
      "outputs": [
        {
          "output_type": "stream",
          "text": [
            "請輸入開始的正整數：55\n",
            "請輸入終止的正整數：66\n",
            "[55, 57, 59, 61, 63, 65]\n"
          ],
          "name": "stdout"
        }
      ]
    },
    {
      "cell_type": "code",
      "metadata": {
        "id": "6d6edku-DlYQ",
        "colab_type": "code",
        "outputId": "36b43cbf-b570-44ed-97cb-122809d8f003",
        "colab": {
          "base_uri": "https://localhost:8080/",
          "height": 51
        }
      },
      "source": [
        "print(len(odds)) #記數\n",
        "print(sum(odds)) #加總"
      ],
      "execution_count": 0,
      "outputs": [
        {
          "output_type": "stream",
          "text": [
            "6\n",
            "360\n"
          ],
          "name": "stdout"
        }
      ]
    },
    {
      "cell_type": "code",
      "metadata": {
        "id": "dPZTS648Dla0",
        "colab_type": "code",
        "outputId": "f987c7fe-fe37-45e0-8c79-e552f792386e",
        "colab": {
          "base_uri": "https://localhost:8080/",
          "height": 85
        }
      },
      "source": [
        "avengers = [\"The Avengers\", \"Avengers: Age of Ultron\", \"Avengers: Infinity War\", \"Avengers: Endgame\"]\n",
        "for idx, movie in enumerate(avengers):\n",
        "    print(\"第 {} 部上映的復仇者聯盟電影：{}\".format(idx+1, movie))"
      ],
      "execution_count": 0,
      "outputs": [
        {
          "output_type": "stream",
          "text": [
            "第 1 部上映的復仇者聯盟電影：The Avengers\n",
            "第 2 部上映的復仇者聯盟電影：Avengers: Age of Ultron\n",
            "第 3 部上映的復仇者聯盟電影：Avengers: Infinity War\n",
            "第 4 部上映的復仇者聯盟電影：Avengers: Endgame\n"
          ],
          "name": "stdout"
        }
      ]
    },
    {
      "cell_type": "code",
      "metadata": {
        "id": "HCpCYHkLDlde",
        "colab_type": "code",
        "colab": {}
      },
      "source": [
        ""
      ],
      "execution_count": 0,
      "outputs": []
    },
    {
      "cell_type": "code",
      "metadata": {
        "id": "9GHesGi6DlgI",
        "colab_type": "code",
        "colab": {}
      },
      "source": [
        ""
      ],
      "execution_count": 0,
      "outputs": []
    }
  ]
}