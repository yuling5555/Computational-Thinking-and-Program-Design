{
  "nbformat": 4,
  "nbformat_minor": 0,
  "metadata": {
    "colab": {
      "name": "0320week3.ipynb",
      "provenance": []
    },
    "kernelspec": {
      "name": "python3",
      "display_name": "Python 3"
    }
  },
  "cells": [
    {
      "cell_type": "code",
      "metadata": {
        "id": "xKGElliExiGE",
        "colab_type": "code",
        "outputId": "c8a8e607-8f1a-49cd-d58b-f22f8e2f9425",
        "colab": {
          "base_uri": "https://localhost:8080/",
          "height": 35
        }
      },
      "source": [
        "# input \"03-19-2020\"\n",
        "# output \"03-19-2020.csv\"\n",
        "#import requests\n",
        "import pandas as pd\n",
        "\n",
        "def get_covid_daily_data(input_date):\n",
        "    csv_name = input_date + \".csv\"\n",
        "    github_url = \"https://raw.githubusercontent.com/CSSEGISandData/COVID-19/master/csse_covid_19_data/csse_covid_19_daily_reports/{}\".format(csv_name)\n",
        "    #response = requests.get(github_url)\n",
        "    df = pd.read_csv(github_url)\n",
        "    # df.head()\n",
        "    # df.tail()\n",
        "    df.to_csv(csv_name, index=False)\n",
        "\n",
        "user_input = input(\"Please input a date(mm-dd-yyyy):\")\n",
        "get_covid_daily_data(user_input)"
      ],
      "execution_count": 0,
      "outputs": [
        {
          "output_type": "stream",
          "text": [
            "Please input a date(mm-dd-yyyy):01-22-2020\n"
          ],
          "name": "stdout"
        }
      ]
    },
    {
      "cell_type": "code",
      "metadata": {
        "id": "t95MFa2r4Rqu",
        "colab_type": "code",
        "outputId": "dae1be0a-a2bf-4bf1-dc8e-971edef8db4c",
        "colab": {
          "base_uri": "https://localhost:8080/",
          "height": 1000
        }
      },
      "source": [
        "from datetime import date, timedelta\n",
        "\n",
        "start_date = date(2020, 1, 22)\n",
        "#time_delta = timedelta(57)\n",
        "#end_date = start_date + time_delta\n",
        "date_period = [start_date + timedelta(i) for i in range(58)]\n",
        "data_dates = [i.strftime('%m-%d-%Y') for i in date_period]\n",
        "for dt in data_dates:\n",
        "    print(\"Downloading {}.csv...\".format(dt))\n",
        "    get_covid_daily_data(dt)"
      ],
      "execution_count": 0,
      "outputs": [
        {
          "output_type": "stream",
          "text": [
            "Downloading 01-22-2020.csv...\n",
            "Downloading 01-23-2020.csv...\n",
            "Downloading 01-24-2020.csv...\n",
            "Downloading 01-25-2020.csv...\n",
            "Downloading 01-26-2020.csv...\n",
            "Downloading 01-27-2020.csv...\n",
            "Downloading 01-28-2020.csv...\n",
            "Downloading 01-29-2020.csv...\n",
            "Downloading 01-30-2020.csv...\n",
            "Downloading 01-31-2020.csv...\n",
            "Downloading 02-01-2020.csv...\n",
            "Downloading 02-02-2020.csv...\n",
            "Downloading 02-03-2020.csv...\n",
            "Downloading 02-04-2020.csv...\n",
            "Downloading 02-05-2020.csv...\n",
            "Downloading 02-06-2020.csv...\n",
            "Downloading 02-07-2020.csv...\n",
            "Downloading 02-08-2020.csv...\n",
            "Downloading 02-09-2020.csv...\n",
            "Downloading 02-10-2020.csv...\n",
            "Downloading 02-11-2020.csv...\n",
            "Downloading 02-12-2020.csv...\n",
            "Downloading 02-13-2020.csv...\n",
            "Downloading 02-14-2020.csv...\n",
            "Downloading 02-15-2020.csv...\n",
            "Downloading 02-16-2020.csv...\n",
            "Downloading 02-17-2020.csv...\n",
            "Downloading 02-18-2020.csv...\n",
            "Downloading 02-19-2020.csv...\n",
            "Downloading 02-20-2020.csv...\n",
            "Downloading 02-21-2020.csv...\n",
            "Downloading 02-22-2020.csv...\n",
            "Downloading 02-23-2020.csv...\n",
            "Downloading 02-24-2020.csv...\n",
            "Downloading 02-25-2020.csv...\n",
            "Downloading 02-26-2020.csv...\n",
            "Downloading 02-27-2020.csv...\n",
            "Downloading 02-28-2020.csv...\n",
            "Downloading 02-29-2020.csv...\n",
            "Downloading 03-01-2020.csv...\n",
            "Downloading 03-02-2020.csv...\n",
            "Downloading 03-03-2020.csv...\n",
            "Downloading 03-04-2020.csv...\n",
            "Downloading 03-05-2020.csv...\n",
            "Downloading 03-06-2020.csv...\n",
            "Downloading 03-07-2020.csv...\n",
            "Downloading 03-08-2020.csv...\n",
            "Downloading 03-09-2020.csv...\n",
            "Downloading 03-10-2020.csv...\n",
            "Downloading 03-11-2020.csv...\n",
            "Downloading 03-12-2020.csv...\n",
            "Downloading 03-13-2020.csv...\n",
            "Downloading 03-14-2020.csv...\n",
            "Downloading 03-15-2020.csv...\n",
            "Downloading 03-16-2020.csv...\n",
            "Downloading 03-17-2020.csv...\n",
            "Downloading 03-18-2020.csv...\n",
            "Downloading 03-19-2020.csv...\n"
          ],
          "name": "stdout"
        }
      ]
    },
    {
      "cell_type": "code",
      "metadata": {
        "id": "X9DlLi5e3Jb_",
        "colab_type": "code",
        "outputId": "a10c18fa-2fcb-4d2f-a1e4-9e52201d1fcb",
        "colab": {
          "base_uri": "https://localhost:8080/",
          "height": 52
        }
      },
      "source": [
        "movie_title = \"Avengers: Endgame\"\n",
        "release_date = \"26 April 2019(USA)\"\n",
        "print(movie_title)\n",
        "print(release_date)\n"
      ],
      "execution_count": 0,
      "outputs": [
        {
          "output_type": "stream",
          "text": [
            "Avengers: Endgame\n",
            "26 April 2019(USA)\n"
          ],
          "name": "stdout"
        }
      ]
    },
    {
      "cell_type": "code",
      "metadata": {
        "id": "7HYtHFN8AAse",
        "colab_type": "code",
        "outputId": "16004173-a9cf-43c5-ed63-855ff8c7653e",
        "colab": {
          "base_uri": "https://localhost:8080/",
          "height": 133
        }
      },
      "source": [
        "56_cannot_die = '五六不能亡'"
      ],
      "execution_count": 0,
      "outputs": [
        {
          "output_type": "error",
          "ename": "SyntaxError",
          "evalue": "ignored",
          "traceback": [
            "\u001b[0;36m  File \u001b[0;32m\"<ipython-input-7-714616b2b2ca>\"\u001b[0;36m, line \u001b[0;32m1\u001b[0m\n\u001b[0;31m    56_cannot_die = '五六不能亡'\u001b[0m\n\u001b[0m      ^\u001b[0m\n\u001b[0;31mSyntaxError\u001b[0m\u001b[0;31m:\u001b[0m invalid token\n"
          ]
        }
      ]
    },
    {
      "cell_type": "code",
      "metadata": {
        "id": "G-gpYVvnASeo",
        "colab_type": "code",
        "outputId": "3857f5a1-9692-467e-de6e-2f5cf1276507",
        "colab": {
          "base_uri": "https://localhost:8080/",
          "height": 35
        }
      },
      "source": [
        "cannot_56_die = '五六不能亡'\n",
        "print(cannot_56_die)"
      ],
      "execution_count": 0,
      "outputs": [
        {
          "output_type": "stream",
          "text": [
            "五六不能亡\n"
          ],
          "name": "stdout"
        }
      ]
    },
    {
      "cell_type": "code",
      "metadata": {
        "id": "_5ikknw9A-0L",
        "colab_type": "code",
        "outputId": "34b6cad1-5c1e-4113-ab7e-61052351c2df",
        "colab": {
          "base_uri": "https://localhost:8080/",
          "height": 133
        }
      },
      "source": [
        "1 True = 1"
      ],
      "execution_count": 0,
      "outputs": [
        {
          "output_type": "error",
          "ename": "SyntaxError",
          "evalue": "ignored",
          "traceback": [
            "\u001b[0;36m  File \u001b[0;32m\"<ipython-input-10-5050cf019bf4>\"\u001b[0;36m, line \u001b[0;32m1\u001b[0m\n\u001b[0;31m    1 True = 1\u001b[0m\n\u001b[0m         ^\u001b[0m\n\u001b[0;31mSyntaxError\u001b[0m\u001b[0;31m:\u001b[0m invalid syntax\n"
          ]
        }
      ]
    },
    {
      "cell_type": "code",
      "metadata": {
        "id": "8C4VV5piA_Se",
        "colab_type": "code",
        "outputId": "b6a0b6a2-bf5e-44a4-89b0-b1d9f298c8ba",
        "colab": {
          "base_uri": "https://localhost:8080/",
          "height": 35
        }
      },
      "source": [
        "movie_title = \"Avengers: Endgame\" \n",
        "print(movie_title)"
      ],
      "execution_count": 0,
      "outputs": [
        {
          "output_type": "stream",
          "text": [
            "Avengers: Endgame\n"
          ],
          "name": "stdout"
        }
      ]
    },
    {
      "cell_type": "code",
      "metadata": {
        "id": "QXweuebBA_fW",
        "colab_type": "code",
        "outputId": "82e85df9-4b55-446e-df27-86904127b121",
        "colab": {
          "base_uri": "https://localhost:8080/",
          "height": 141
        }
      },
      "source": [
        "help(all)"
      ],
      "execution_count": 0,
      "outputs": [
        {
          "output_type": "stream",
          "text": [
            "Help on built-in function all in module builtins:\n",
            "\n",
            "all(iterable, /)\n",
            "    Return True if bool(x) is True for all values x in the iterable.\n",
            "    \n",
            "    If the iterable is empty, return True.\n",
            "\n"
          ],
          "name": "stdout"
        }
      ]
    },
    {
      "cell_type": "code",
      "metadata": {
        "id": "rRBfG5IoD60B",
        "colab_type": "code",
        "outputId": "1d4c8e69-e2e2-4e2f-ff64-7d180ca8defb",
        "colab": {
          "base_uri": "https://localhost:8080/",
          "height": 35
        }
      },
      "source": [
        "my_object = 5566\n",
        "print(my_object)"
      ],
      "execution_count": 0,
      "outputs": [
        {
          "output_type": "stream",
          "text": [
            "5566\n"
          ],
          "name": "stdout"
        }
      ]
    },
    {
      "cell_type": "code",
      "metadata": {
        "id": "_xQa-KvXD7ig",
        "colab_type": "code",
        "outputId": "46dee7a8-68b0-43fe-fc4a-153b922faa25",
        "colab": {
          "base_uri": "https://localhost:8080/",
          "height": 35
        }
      },
      "source": [
        "my_star = '5566'\n",
        "print(my_star)\n"
      ],
      "execution_count": 0,
      "outputs": [
        {
          "output_type": "stream",
          "text": [
            "5566\n"
          ],
          "name": "stdout"
        }
      ]
    },
    {
      "cell_type": "code",
      "metadata": {
        "id": "UM0t-75UEjkj",
        "colab_type": "code",
        "outputId": "2de9cedf-3ac5-4768-9dd7-44dace35db37",
        "colab": {
          "base_uri": "https://localhost:8080/",
          "height": 124
        }
      },
      "source": [
        "movie_title = \"Avengers: Endgame\"\n",
        "movie_length = 181\n",
        "movie_rating = 8.4\n",
        "\n",
        "\n",
        "print(movie_title)\n",
        "print(movie_length)\n",
        "print(movie_rating)\n",
        "\n",
        "print(type(movie_title))\n",
        "print(type(movie_length))\n",
        "print(type(movie_rating))"
      ],
      "execution_count": 0,
      "outputs": [
        {
          "output_type": "stream",
          "text": [
            "Avengers: Endgame\n",
            "181\n",
            "8.4\n",
            "<class 'str'>\n",
            "<class 'int'>\n",
            "<class 'float'>\n"
          ],
          "name": "stdout"
        }
      ]
    }
  ]
}